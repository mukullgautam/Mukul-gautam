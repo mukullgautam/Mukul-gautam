{
 "cells": [
  {
   "cell_type": "code",
   "execution_count": null,
   "metadata": {
    "colab": {
     "base_uri": "https://localhost:8080/"
    },
    "id": "zwoP1FnFVd1t",
    "outputId": "87167afb-705d-4d72-9d5a-aec401e58418"
   },
   "outputs": [
    {
     "name": "stdout",
     "output_type": "stream",
     "text": [
      "Just Pass\n",
      "Second Class\n",
      "Fail\n",
      "Fail\n",
      "Second Class\n",
      "Distinction\n",
      "Distinction\n",
      "Distinction\n",
      "First Class\n",
      "Distinction\n"
     ]
    }
   ],
   "source": [
    "#1\n",
    "Scores = [35, 50, 20, 30, 55, 75, 90, 95, 66, 80]\n",
    "\n",
    "for score in Scores:\n",
    "    if score > 70:\n",
    "        print(\"Distinction\")\n",
    "    elif 60 <= score <= 70:\n",
    "        print(\"First Class\")\n",
    "    elif 50 <= score < 60:\n",
    "        print(\"Second Class\")\n",
    "    elif 35 <= score < 50:\n",
    "        print(\"Just Pass\")\n",
    "    else:\n",
    "        print(\"Fail\")\n"
   ]
  },
  {
   "cell_type": "code",
   "execution_count": 31,
   "metadata": {
    "colab": {
     "base_uri": "https://localhost:8080/"
    },
    "id": "YH6Tb9iQV1QN",
    "outputId": "f0ea5fa5-bdd5-49c0-b18c-a6eb40dc41fd"
   },
   "outputs": [
    {
     "name": "stdout",
     "output_type": "stream",
     "text": [
      "Book: Python, Price: 600\n",
      "Book: Web_Tech, Price: 550\n",
      "Book: IT, Price: 700\n"
     ]
    }
   ],
   "source": [
    "#2\n",
    "x = {'Python': 600, 'Java': 400, 'Web_Tech': 550, 'OS': 450, 'IT': 700}\n",
    "\n",
    "for book, price in x.items():\n",
    "    if price > 500:\n",
    "        print(f'Book: {book}, Price: {price}')\n"
   ]
  },
  {
   "cell_type": "code",
   "execution_count": 30,
   "metadata": {
    "colab": {
     "base_uri": "https://localhost:8080/"
    },
    "id": "hf1f7m03WFlh",
    "outputId": "57abe392-3f40-4c48-e73d-b413494da744"
   },
   "outputs": [
    {
     "data": {
      "text/plain": [
       "[1, 4, 9, 16, 25, 36, 49]"
      ]
     },
     "execution_count": 30,
     "metadata": {},
     "output_type": "execute_result"
    }
   ],
   "source": [
    "#3\n",
    "list0 = [1, 2, 3, 4, 5, 6, 7]\n",
    "[x**2 for x in list0]\n",
    "\n"
   ]
  },
  {
   "cell_type": "code",
   "execution_count": 13,
   "metadata": {
    "colab": {
     "base_uri": "https://localhost:8080/"
    },
    "id": "7sHc5ldAWXbG",
    "outputId": "3afc40bb-cf25-4ef1-9309-d55cfe9b07af"
   },
   "outputs": [
    {
     "name": "stdout",
     "output_type": "stream",
     "text": [
      "Hello Dear\n",
      "take Dear\n",
      "Hello Sir\n",
      "take Sir\n"
     ]
    }
   ],
   "source": [
    "#4\n",
    "list1 = [\"Hello \", \"take \"]\n",
    "list2 = [\"Dear\", \"Sir\"]\n",
    "print(list1[0] + list2[0])\n",
    "print(list1[1] + list2[0])\n",
    "print(list1[0] + list2[1])\n",
    "print(list1[1] + list2[1])\n",
    "\n",
    "\n"
   ]
  },
  {
   "cell_type": "code",
   "execution_count": 29,
   "metadata": {
    "colab": {
     "base_uri": "https://localhost:8080/"
    },
    "id": "PFv0VcQvWwCX",
    "outputId": "d4679fb8-472b-4aa2-e4d4-a7788f4501fd"
   },
   "outputs": [
    {
     "data": {
      "text/plain": [
       "[500, 400, 300, 200, 100]"
      ]
     },
     "execution_count": 29,
     "metadata": {},
     "output_type": "execute_result"
    }
   ],
   "source": [
    "#5\n",
    "list1 = [100, 200, 300, 400, 500]\n",
    "list1.reverse()\n",
    "list1\n"
   ]
  },
  {
   "cell_type": "code",
   "execution_count": 27,
   "metadata": {
    "colab": {
     "base_uri": "https://localhost:8080/"
    },
    "id": "Maa9QPcuZLGd",
    "outputId": "5c840049-26d8-4156-8132-9d8cefc4e096"
   },
   "outputs": [
    {
     "name": "stdout",
     "output_type": "stream",
     "text": [
      "[10, 20, [300, 400, [5000, 6000, 7000], 500], 30, 40]\n"
     ]
    }
   ],
   "source": [
    "#6\n",
    "list1 = [10, 20, [300, 400, [5000, 6000], 500], 30, 40]\n",
    "x = 7000\n",
    "\n",
    "\n",
    "list1[2][2].append(x)\n",
    "\n",
    "print(list1)\n"
   ]
  },
  {
   "cell_type": "code",
   "execution_count": 26,
   "metadata": {
    "colab": {
     "base_uri": "https://localhost:8080/"
    },
    "id": "tmaIZL72ZaFQ",
    "outputId": "85ce7816-c7c5-44bd-8696-32040b35461f"
   },
   "outputs": [
    {
     "name": "stdout",
     "output_type": "stream",
     "text": [
      "['a', 'b', ['c', ['d', 'e', ['f', 'g', 'h', 'i', 'j'], 'k'], 'l'], 'm', 'n']\n"
     ]
    }
   ],
   "source": [
    "#7\n",
    "list1 = [\"a\", \"b\", [\"c\", [\"d\", \"e\", [\"f\", \"g\"], \"k\"], \"l\"], \"m\", \"n\"]\n",
    "sub_list = [\"h\", \"i\", \"j\"]\n",
    "\n",
    "\n",
    "list1[2][1][2].extend(sub_list)\n",
    "\n",
    "print(list1)\n"
   ]
  },
  {
   "cell_type": "code",
   "execution_count": 25,
   "metadata": {
    "colab": {
     "base_uri": "https://localhost:8080/"
    },
    "id": "et1MH1t_ZmWo",
    "outputId": "c77c2238-a38a-45e8-a717-478bfbc66255"
   },
   "outputs": [
    {
     "data": {
      "text/plain": [
       "[5, 10, 15, 200, 25, 50, 20]"
      ]
     },
     "execution_count": 25,
     "metadata": {},
     "output_type": "execute_result"
    }
   ],
   "source": [
    "#8\n",
    "list1 = [5, 10, 15, 20, 25, 50, 20]\n",
    "list1.remove(20)\n",
    "list1.insert(3,200)\n",
    "list1\n"
   ]
  },
  {
   "cell_type": "code",
   "execution_count": 18,
   "metadata": {
    "colab": {
     "base_uri": "https://localhost:8080/"
    },
    "id": "3D27wAhTZw3c",
    "outputId": "ce563259-3417-44ab-b537-cdb62a16ba1a"
   },
   "outputs": [
    {
     "name": "stdout",
     "output_type": "stream",
     "text": [
      "Sachin\n",
      "Rahul\n"
     ]
    }
   ],
   "source": [
    "#9\n",
    "Player_game = {'Sachin': 'Cricket', 'Rahul': 'Cricket', 'Messi': 'Football', 'Federer': 'Tennis', 'Anand': 'Chess'}\n",
    "\n",
    "for player, game in Player_game.items():\n",
    "    if game == 'Cricket':\n",
    "        print(player)\n"
   ]
  },
  {
   "cell_type": "code",
   "execution_count": 20,
   "metadata": {
    "colab": {
     "base_uri": "https://localhost:8080/"
    },
    "id": "ji68-FvBaAvd",
    "outputId": "da8d86d9-c58d-4302-e7c4-44510784fbad"
   },
   "outputs": [
    {
     "data": {
      "text/plain": [
       "51"
      ]
     },
     "execution_count": 20,
     "metadata": {},
     "output_type": "execute_result"
    }
   ],
   "source": [
    "#10\n",
    "list1 = [1, 2, 4, 5, 10, 20, 4, 5]\n",
    "\n",
    "sum(list1)\n"
   ]
  },
  {
   "cell_type": "code",
   "execution_count": null,
   "metadata": {
    "id": "YPJQY2fKaJCt"
   },
   "outputs": [],
   "source": []
  }
 ],
 "metadata": {
  "colab": {
   "provenance": []
  },
  "kernelspec": {
   "display_name": "Python 3 (ipykernel)",
   "language": "python",
   "name": "python3"
  },
  "language_info": {
   "codemirror_mode": {
    "name": "ipython",
    "version": 3
   },
   "file_extension": ".py",
   "mimetype": "text/x-python",
   "name": "python",
   "nbconvert_exporter": "python",
   "pygments_lexer": "ipython3",
   "version": "3.11.4"
  }
 },
 "nbformat": 4,
 "nbformat_minor": 1
}
